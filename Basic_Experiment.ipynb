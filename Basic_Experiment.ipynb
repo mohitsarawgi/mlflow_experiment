{
  "nbformat": 4,
  "nbformat_minor": 0,
  "metadata": {
    "colab": {
      "provenance": [],
      "authorship_tag": "ABX9TyNVj4GoqP9urYeS21X6VKfr",
      "include_colab_link": true
    },
    "kernelspec": {
      "name": "python3",
      "display_name": "Python 3"
    },
    "language_info": {
      "name": "python"
    }
  },
  "cells": [
    {
      "cell_type": "markdown",
      "metadata": {
        "id": "view-in-github",
        "colab_type": "text"
      },
      "source": [
        "<a href=\"https://colab.research.google.com/github/mohitsarawgi/mlflow_experiment/blob/main/Basic_Experiment.ipynb\" target=\"_parent\"><img src=\"https://colab.research.google.com/assets/colab-badge.svg\" alt=\"Open In Colab\"/></a>"
      ]
    },
    {
      "cell_type": "code",
      "execution_count": 3,
      "metadata": {
        "id": "fs0CYVqsyrPx"
      },
      "outputs": [],
      "source": [
        "import numpy as np\n",
        "from sklearn.datasets import make_classification\n",
        "from sklearn.model_selection import train_test_split\n",
        "from sklearn.linear_model import LogisticRegression\n",
        "from sklearn.ensemble import RandomForestClassifier\n",
        "from xgboost import XGBClassifier\n",
        "from sklearn.metrics import classification_report\n",
        "import warnings\n",
        "warnings.filterwarnings('ignore')"
      ]
    },
    {
      "cell_type": "code",
      "source": [
        "# Step 1 - create an imbalanced binary classification dataset\n",
        "x, y = make_classification(n_samples=1000, n_features = 10, n_informative=2,\n",
        "                           n_redundant = 8, weights=[0.9, 0.1], flip_y = 0, random_state=42)\n",
        "np.unique(y, return_counts=True)"
      ],
      "metadata": {
        "colab": {
          "base_uri": "https://localhost:8080/"
        },
        "id": "SqtgQH1Kzml8",
        "outputId": "b9001591-2752-4161-8093-45d17a2b76b2"
      },
      "execution_count": 6,
      "outputs": [
        {
          "output_type": "execute_result",
          "data": {
            "text/plain": [
              "(array([0, 1]), array([900, 100]))"
            ]
          },
          "metadata": {},
          "execution_count": 6
        }
      ]
    },
    {
      "cell_type": "code",
      "source": [
        "# Splitting the dataset into training and testing sets\n",
        "x_train, x_test, y_train, y_test = train_test_split(x,y,test_size = 0.3, stratify=y, random_state=42)"
      ],
      "metadata": {
        "id": "xbnGY9mS0TDQ"
      },
      "execution_count": 8,
      "outputs": []
    },
    {
      "cell_type": "code",
      "source": [
        "# define model parameters\n",
        "\n",
        "params = {\n",
        "    \"solver\" : \"liblinear\", # Changing solver to a valid option\n",
        "    \"max_iter\" : 1000,\n",
        "    \"random_state\":8888,\n",
        "}\n",
        "\n",
        "# Train the model\n",
        "lr = LogisticRegression(**params)\n",
        "lr.fit(x_train, y_train)\n",
        "\n",
        "\n",
        "# Predict on test set\n",
        "y_pred = lr.predict(x_test)\n",
        "report = classification_report(y_test, y_pred)\n",
        "print(report)"
      ],
      "metadata": {
        "colab": {
          "base_uri": "https://localhost:8080/"
        },
        "id": "7tlscIVy1_lM",
        "outputId": "3a8a3092-46f4-45e2-ef18-7781d33e4ff6"
      },
      "execution_count": 10,
      "outputs": [
        {
          "output_type": "stream",
          "name": "stdout",
          "text": [
            "              precision    recall  f1-score   support\n",
            "\n",
            "           0       0.95      0.96      0.95       270\n",
            "           1       0.60      0.50      0.55        30\n",
            "\n",
            "    accuracy                           0.92       300\n",
            "   macro avg       0.77      0.73      0.75       300\n",
            "weighted avg       0.91      0.92      0.91       300\n",
            "\n"
          ]
        }
      ]
    },
    {
      "cell_type": "code",
      "source": [
        "report_dict = classification_report(y_test, y_pred, output_dict=True)\n",
        "report_dict"
      ],
      "metadata": {
        "colab": {
          "base_uri": "https://localhost:8080/"
        },
        "id": "yQ7Xjp3c4JqL",
        "outputId": "cb8a2975-74e8-4969-d199-9ee4fcd28396"
      },
      "execution_count": 11,
      "outputs": [
        {
          "output_type": "execute_result",
          "data": {
            "text/plain": [
              "{'0': {'precision': 0.9454545454545454,\n",
              "  'recall': 0.9629629629629629,\n",
              "  'f1-score': 0.9541284403669725,\n",
              "  'support': 270.0},\n",
              " '1': {'precision': 0.6,\n",
              "  'recall': 0.5,\n",
              "  'f1-score': 0.5454545454545454,\n",
              "  'support': 30.0},\n",
              " 'accuracy': 0.9166666666666666,\n",
              " 'macro avg': {'precision': 0.7727272727272727,\n",
              "  'recall': 0.7314814814814814,\n",
              "  'f1-score': 0.749791492910759,\n",
              "  'support': 300.0},\n",
              " 'weighted avg': {'precision': 0.9109090909090909,\n",
              "  'recall': 0.9166666666666666,\n",
              "  'f1-score': 0.91326105087573,\n",
              "  'support': 300.0}}"
            ]
          },
          "metadata": {},
          "execution_count": 11
        }
      ]
    },
    {
      "cell_type": "code",
      "source": [],
      "metadata": {
        "id": "JlnfHfaT4VDQ"
      },
      "execution_count": null,
      "outputs": []
    }
  ]
}